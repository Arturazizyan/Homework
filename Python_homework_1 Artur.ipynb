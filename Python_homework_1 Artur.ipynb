{
 "cells": [
  {
   "cell_type": "markdown",
   "metadata": {},
   "source": [
    "# Python Homework 1:\n",
    "### Basic operations, Functions, Simple python objects, Conditionals, Loops"
   ]
  },
  {
   "cell_type": "markdown",
   "metadata": {},
   "source": [
    "#### Note: When you see a cell with 'assert' do NOT change it and run it to test your code. If it throughs AssertionError then you have done something wrong.<br>Դիտողություն. Երբ տեսնում ես բջիջ 'assert' ֆունկցիայով, մի փոխիր այն և վազեցրու, որպեսզի ստուգես կոդիդ ճշտությունը: Եթե այդ բջիջը նետում է AssertionError, ապա կոդի մեյ սխալ կա:\n"
   ]
  },
  {
   "cell_type": "markdown",
   "metadata": {},
   "source": [
    "## Tasks 1-5: Something is wrong in one of the lines of the code. Find and correct it.<br>Կոդում ինչ-որ բան սխալ է: Գտիր և փոխիր:"
   ]
  },
  {
   "cell_type": "markdown",
   "metadata": {},
   "source": [
    "Task 1: If the sum of 2 numbers is even return **False**, else return **True**.<br>Եթե 2 թվերի գումարը զույգ է վերադաձրու **False**, այլ դեպքում **True**:"
   ]
  },
  {
   "cell_type": "code",
   "execution_count": 2,
   "metadata": {},
   "outputs": [],
   "source": [
    "def my_operation(x,y):\n",
    "    t1 = x + y\n",
    "    if t1%2 == 0:\n",
    "        return False\n",
    "    else:\n",
    "        return True"
   ]
  },
  {
   "cell_type": "code",
   "execution_count": 3,
   "metadata": {},
   "outputs": [],
   "source": [
    "assert(my_operation(2,2) == False)\n",
    "assert(my_operation(0,0) == False)\n",
    "assert(my_operation(-2,86) == False)\n",
    "assert(my_operation(-2,-155) == True)\n",
    "assert(my_operation(1,8) == True)\n",
    "assert(my_operation(78,-78) == False)"
   ]
  },
  {
   "cell_type": "markdown",
   "metadata": {},
   "source": [
    "Task 2: Find numbers from 1 to 1000 which are multiples of 13, then put them in the list.<br>Գտիր 13-ի բազմապատիկ թվերը 1-ից 1000 միջակայքում, ապա ավելացրու ցուցակին:"
   ]
  },
  {
   "cell_type": "code",
   "execution_count": 4,
   "metadata": {},
   "outputs": [],
   "source": [
    "squares = []\n",
    "for i in range(13,1000):\n",
    "    if i%13 == 0:\n",
    "        squares.append(i)   "
   ]
  },
  {
   "cell_type": "code",
   "execution_count": 5,
   "metadata": {},
   "outputs": [],
   "source": [
    "assert(squares[0] == 13)\n",
    "assert(squares[12] == 169)\n",
    "assert(squares[-1] == 988)\n",
    "assert(squares[67] == 884)\n",
    "assert(squares[38] == 507)"
   ]
  },
  {
   "cell_type": "markdown",
   "metadata": {},
   "source": [
    "Task 3: For the given list iterate through the list. If the element is integer print the index of element and **found_integer**, else print the index and element.<br>Տրված ցուցակով իտերացիա կատարիր: Եթե էլեմենտը ամբողջ թիվ է, տպիր ինդեքսը և **found_integer**, այլ դեպքում տպիր ինդեքսը և էլեմենտը:"
   ]
  },
  {
   "cell_type": "code",
   "execution_count": 1,
   "metadata": {},
   "outputs": [
    {
     "name": "stdout",
     "output_type": "stream",
     "text": [
      "a\n",
      "1 found_integer\n",
      "b\n",
      "c\n",
      "4 found_integer\n",
      "d\n",
      "e\n",
      "7 found_integer\n",
      "f\n",
      "9 found_integer\n"
     ]
    }
   ],
   "source": [
    "list_of_names = ['a',4,'b','c',64,'d','e',98,'f',0]\n",
    "found_integer = ('We have found an integer!')\n",
    "for c,i in enumerate(list_of_names):\n",
    "    if type(i) == int:\n",
    "        print(c,  ('found_integer'))\n",
    "    else:\n",
    "        print(i)"
   ]
  },
  {
   "cell_type": "markdown",
   "metadata": {},
   "source": [
    "Task 4: Define a function which calculates the how many 0-s are in a list.<br>Սահամանիր ֆունկցիա, որը հաշվում է ցուցակի մեջ 0-ների քանակը:"
   ]
  },
  {
   "cell_type": "code",
   "execution_count": 7,
   "metadata": {},
   "outputs": [],
   "source": [
    "def calc_zeros(x):\n",
    "    zero_count = 0\n",
    "    for i in x:\n",
    "        if i == 0:\n",
    "            zero_count+=1\n",
    "    return zero_count"
   ]
  },
  {
   "cell_type": "code",
   "execution_count": 8,
   "metadata": {},
   "outputs": [],
   "source": [
    "assert(calc_zeros([1,2,4,241,241,5,3,7,23,0]) == 1)\n",
    "assert(calc_zeros([0,0,0]) == 3)\n",
    "assert(calc_zeros([1,0,1,0,1,0,0,1,0,10,1]) == 5)"
   ]
  },
  {
   "cell_type": "markdown",
   "metadata": {},
   "source": [
    "Task 5: Make sure **i** is 1 more of **maximum_value**.<br>Համոզվիր, որ **i**-ն 1-ով մեծ է **maximum_value**-ից:"
   ]
  },
  {
   "cell_type": "code",
   "execution_count": 9,
   "metadata": {},
   "outputs": [],
   "source": [
    "i=0\n",
    "maximum_value = 79\n",
    "while i <= maximum_value:\n",
    "    i+=1\n",
    "    if i > maximum_value: \n",
    "        break"
   ]
  },
  {
   "cell_type": "code",
   "execution_count": 10,
   "metadata": {},
   "outputs": [],
   "source": [
    "assert(i == maximum_value+1)"
   ]
  },
  {
   "cell_type": "markdown",
   "metadata": {},
   "source": [
    "## Tasks 6-10: Add the missing part of the code (... means you need to add something).<br>Ավելացրու կոդի պակասող մասը:"
   ]
  },
  {
   "cell_type": "markdown",
   "metadata": {},
   "source": [
    "Task 6: If the sum of 2 numbers is even return **False**, else return **True**.<br>Եթե 2 թվերի գումարը զույգ է վերադաձրու **False**, այլ դեպքում **True**:"
   ]
  },
  {
   "cell_type": "code",
   "execution_count": 11,
   "metadata": {},
   "outputs": [],
   "source": [
    "def my_operation_short(x,y):\n",
    "    t1 = x + y\n",
    "    if t1%2==0:\n",
    "        return False\n",
    "    else:\n",
    "        return True"
   ]
  },
  {
   "cell_type": "code",
   "execution_count": 12,
   "metadata": {},
   "outputs": [],
   "source": [
    "assert(my_operation_short(2,2) == False)\n",
    "assert(my_operation_short(0,0) == False)\n",
    "assert(my_operation_short(-2,86) == False)\n",
    "assert(my_operation_short(-2,-155) == True)\n",
    "assert(my_operation_short(1,8) == True)\n",
    "assert(my_operation_short(78,-78) == False)"
   ]
  },
  {
   "cell_type": "markdown",
   "metadata": {},
   "source": [
    "Task 7: If **i** is a multiple of 67 add square of **i** to the list<br>Եթե **i**-ն 67-ի բազմապատիկ է, ցուցակին ավելացրու **i**-ի քառակուսին."
   ]
  },
  {
   "cell_type": "code",
   "execution_count": 2,
   "metadata": {},
   "outputs": [],
   "source": [
    "list_of_numbers = []\n",
    "for i in range(1000):\n",
    "    if i%67 == 0:\n",
    "        list_of_numbers.append(i**2) \n",
    "        "
   ]
  },
  {
   "cell_type": "code",
   "execution_count": 4,
   "metadata": {},
   "outputs": [],
   "source": [
    "assert(list_of_numbers[0] == 0)\n",
    "assert(list_of_numbers[13] == 758641)\n",
    "assert(list_of_numbers[6] == 161604)\n",
    "assert(list_of_numbers[3] == 40401)"
   ]
  },
  {
   "cell_type": "markdown",
   "metadata": {},
   "source": [
    "Task 8: print the index and value for each element in **list_of_numbers**.<br>Տպիր **list_of_numbers**-ի յուրաքանչյուր էլեմենտի ինդեքսը և արժեքը:"
   ]
  },
  {
   "cell_type": "code",
   "execution_count": 5,
   "metadata": {},
   "outputs": [
    {
     "name": "stdout",
     "output_type": "stream",
     "text": [
      "0 0\n",
      "1 4489\n",
      "2 17956\n",
      "3 40401\n",
      "4 71824\n",
      "5 112225\n",
      "6 161604\n",
      "7 219961\n",
      "8 287296\n",
      "9 363609\n",
      "10 448900\n",
      "11 543169\n",
      "12 646416\n",
      "13 758641\n",
      "14 879844\n"
     ]
    }
   ],
   "source": [
    "for c,i in enumerate(list_of_numbers):\n",
    "    print ( c,i )"
   ]
  },
  {
   "cell_type": "markdown",
   "metadata": {},
   "source": [
    "Task 9: Stop the While loop when **i** reaches 10.<br>Դադարեցրու ցիկլը, երբ **i**-ն հասնի 10-ի:"
   ]
  },
  {
   "cell_type": "code",
   "execution_count": 16,
   "metadata": {},
   "outputs": [
    {
     "name": "stdout",
     "output_type": "stream",
     "text": [
      "1\n",
      "2\n",
      "3\n",
      "4\n",
      "5\n",
      "6\n",
      "7\n",
      "8\n",
      "9\n",
      "10\n"
     ]
    }
   ],
   "source": [
    "i = 0\n",
    "while i<1000:\n",
    "    if i == 10:\n",
    "        break\n",
    "    i+=1\n",
    "    print(i)"
   ]
  },
  {
   "cell_type": "markdown",
   "metadata": {},
   "source": [
    "Task 10: For **i** from 0 to 100 calculate the sum of even number up to **i** and add to the **list_of_sums**.<br>**i**-ի համար հաշվիր 0-ից  100  միջակայքում զույգ թվերի գումարը մինչև **i** և ավելացրու **list_of_sums**-ին։"
   ]
  },
  {
   "cell_type": "code",
   "execution_count": 17,
   "metadata": {},
   "outputs": [],
   "source": [
    "list_of_sums = []\n",
    "for i in range(100):\n",
    "    each_sum=0\n",
    "    for j in range(i+1):\n",
    "        if j%2 == 0:\n",
    "            each_sum+=j\n",
    "    list_of_sums.append(each_sum)"
   ]
  },
  {
   "cell_type": "code",
   "execution_count": 18,
   "metadata": {},
   "outputs": [],
   "source": [
    "assert(list_of_sums[98] == 2450)\n",
    "assert(list_of_sums[78] == 1560)\n",
    "assert(list_of_sums[17] == 72)\n",
    "assert(list_of_sums[54] == 756)"
   ]
  },
  {
   "cell_type": "markdown",
   "metadata": {},
   "source": [
    "## Tasks 11-15: Write the remaining part of code.<br>Գրիր կոդի մնացած մասը։"
   ]
  },
  {
   "cell_type": "markdown",
   "metadata": {},
   "source": [
    "Task 11: Define a function which calculates the sum of 2 arguments if the sum is less than 100, else it must return 0.<br>Սահմանիր ֆունկցիա, որը հաշվում 2 արգումնետների գումարը, եթե գումարը փոքր է 100-ից, այլ դեպքերում վերադարձրու 0։"
   ]
  },
  {
   "cell_type": "code",
   "execution_count": 19,
   "metadata": {},
   "outputs": [],
   "source": [
    "def conditional_sum(a,b):\n",
    "    r=a+b\n",
    "    if r<100:\n",
    "        return r\n",
    "    else:\n",
    "        return 0"
   ]
  },
  {
   "cell_type": "code",
   "execution_count": 20,
   "metadata": {},
   "outputs": [],
   "source": [
    "assert(conditional_sum(1,1) == 2)\n",
    "assert(conditional_sum(1,100) == 0)\n",
    "assert(conditional_sum(0,0) == 0)\n",
    "assert(conditional_sum(-1,-61) == -62)\n",
    "assert(conditional_sum(-101,1000) == 0)"
   ]
  },
  {
   "cell_type": "markdown",
   "metadata": {},
   "source": [
    "Task 12: Write a loop which adds to the **list_of_conditional_numbers** 'Ashot' if **i** is divisible by 2, 'Gegham' if **i** is divisible by 3 and **i** if it is not divisible by 2 or 3.<br>\n",
    "Note: If **i** is divisible by both 2 and 3, consider it divisible by 2 only.<br>\n",
    "Գրիր ցիկլ, որը կավելացնի **list_of_conditional_numbers**-ին 'Ashot', եթե **i**-ին բաժանվու է 2-ի, 'Gegham', եթե **i**-ին բաժանվում է 3-ի և **i**, եթե չի բաժանվում ոչ 2-ի, ոչ 3-ի։<br>\n",
    "Դիտողություն։ Եթե **i**-ին բաժանվում 2-ի և 3-ի, համարիր, որ այն բաժանվում է միայն 2-ի։"
   ]
  },
  {
   "cell_type": "code",
   "execution_count": 21,
   "metadata": {},
   "outputs": [],
   "source": [
    "\n",
    "list_of_conditional_numbers = []\n",
    "for i in range(100):\n",
    "    if i%2==0:\n",
    "        list_of_conditional_numbers.append('Ashot')\n",
    "    elif i%3==0:\n",
    "        list_of_conditional_numbers.append('Gegham')\n",
    "    elif i%2!=0 and i%3!=0:\n",
    "        list_of_conditional_numbers.append(i)"
   ]
  },
  {
   "cell_type": "code",
   "execution_count": 22,
   "metadata": {},
   "outputs": [],
   "source": [
    "assert(list_of_conditional_numbers[67] == 67)\n",
    "assert(list_of_conditional_numbers[81] == 'Gegham')\n",
    "assert(list_of_conditional_numbers[44] == 'Ashot')\n",
    "assert(list_of_conditional_numbers[7] == 7)\n",
    "assert(list_of_conditional_numbers[9] == 'Gegham')"
   ]
  },
  {
   "cell_type": "markdown",
   "metadata": {},
   "source": [
    "Task 13: Write a for loop which will add all string elements in **list_to_be_reduced** to **reduced_string**.<br>\n",
    "Example: 'Art' + 'hur' = 'Arthur'<br>\n",
    "Գրիր ցիկլ, որը կավելացնի բոլոր string էլէմենտները **list_to_be_reduced**-ում **reduced_string**-ին։<br>\n",
    "Օրինակ․ 'Art' + 'hur' = 'Arthur'\n"
   ]
  },
  {
   "cell_type": "code",
   "execution_count": 59,
   "metadata": {},
   "outputs": [],
   "source": [
    "list_to_be_reduced = ['He',0,'ll',89,'o, ',444,'my',' ','na',89,'me i','s A',798,'rth',0,'ur.']\n",
    "reduced_string = ''\n",
    "for i in (list_to_be_reduced):\n",
    "    if type(i) == str:\n",
    "        reduced_string+=i"
   ]
  },
  {
   "cell_type": "code",
   "execution_count": 60,
   "metadata": {},
   "outputs": [],
   "source": [
    "assert(reduced_string == 'Hello, my name is Arthur.')"
   ]
  },
  {
   "cell_type": "markdown",
   "metadata": {},
   "source": [
    "Task 14: Write a for loop which will add the squares of indexes of numbers in **list_to_be_reduced** to **number_indexes**.<br>\n",
    "Գրիր ցիկլ, որը կավելացնի **list_to_be_reduced**-ում թվերի ինդեքսների քառակուսիները **number_indexes**-ին․"
   ]
  },
  {
   "cell_type": "code",
   "execution_count": 25,
   "metadata": {},
   "outputs": [],
   "source": [
    "number_indexes = []\n",
    "for c,i in enumerate(list_to_be_reduced):\n",
    "    if type(i) == int:\n",
    "        number_indexes.append(c**2)"
   ]
  },
  {
   "cell_type": "code",
   "execution_count": 27,
   "metadata": {},
   "outputs": [],
   "source": [
    "assert(number_indexes[3] == 81)\n",
    "assert(number_indexes[5] == 196)"
   ]
  },
  {
   "cell_type": "markdown",
   "metadata": {},
   "source": [
    "Task 15: Write a function of nested conditions. Return 1 when **c** is bigger or equal to **d** and -1 when **c** is less than **d** if **a** is bigger than **b**. Return -1 when **c** is bigger or equal to **d** and 1 when **c** is less than **d** if **a** is less than **b**. return 0 when **a** is equal to **b**.<br>\n",
    "Գրիր շերտերով(nested) պայմանների ֆունկցիա։ Վերադարձրու 1, երբ **c**-ն մեծ կամ հավասար է **d**-ի և -1 երբ **c**-ն փոքր է **d**-ից, եթե **a**-ն մեծ է **b**-ից։ Վերադաձրու -1,երբ **c**-ն մեծ կամ հավասար է **d**-ի և 1 երբ **c**-ն փոքր է **d**-ից, եթե **a**-ն փոքր է **b**-ից։ Վերադաձրու 0, երբ **a**-ն հավասար է **b**-ի։"
   ]
  },
  {
   "cell_type": "code",
   "execution_count": 28,
   "metadata": {},
   "outputs": [],
   "source": [
    "def nested_conditions(a,b,c,d):    \n",
    "    if c >= d and a > b:\n",
    "        return (1)\n",
    "    elif c < d and a < b:\n",
    "        return (-1)\n",
    "    elif c >= d and b > d:\n",
    "        return (-1)\n",
    "    elif c < d and a < b:\n",
    "        return (1)\n",
    "    elif a == b and c >= d:\n",
    "        return (0)   "
   ]
  },
  {
   "cell_type": "code",
   "execution_count": 29,
   "metadata": {},
   "outputs": [],
   "source": [
    "assert(nested_conditions(1,1,1,1) == 0)\n",
    "assert(nested_conditions(1,2,100,1) == -1)\n",
    "assert(nested_conditions(18,1,1,1) == 1)\n",
    "assert(nested_conditions(178,19,1777,15) == 1)\n",
    "assert(nested_conditions(-1,1,1,-1) == -1)\n",
    "assert(nested_conditions(1798,17,-1,-1) == 1)\n",
    "assert(nested_conditions(10,10,10000,11) == 0)"
   ]
  },
  {
   "cell_type": "markdown",
   "metadata": {},
   "source": [
    "## Tasks 16-20: Add the missing part of the code (... means you need to add something).<br>Ավելացրու կոդի պակասող մասը:"
   ]
  },
  {
   "cell_type": "markdown",
   "metadata": {},
   "source": [
    "Task 16: Make the loop break after printing 85.<br>Դադարեցրու ցիկլը 85 տպելուց հետո։"
   ]
  },
  {
   "cell_type": "code",
   "execution_count": 30,
   "metadata": {},
   "outputs": [
    {
     "name": "stdout",
     "output_type": "stream",
     "text": [
      "1\n",
      "2\n",
      "3\n",
      "4\n",
      "5\n",
      "6\n",
      "7\n",
      "8\n",
      "9\n",
      "10\n",
      "11\n",
      "12\n",
      "13\n",
      "14\n",
      "15\n",
      "16\n",
      "17\n",
      "18\n",
      "19\n",
      "20\n",
      "21\n",
      "22\n",
      "23\n",
      "24\n",
      "25\n",
      "26\n",
      "27\n",
      "28\n",
      "29\n",
      "30\n",
      "31\n",
      "32\n",
      "33\n",
      "34\n",
      "35\n",
      "36\n",
      "37\n",
      "38\n",
      "39\n",
      "40\n",
      "41\n",
      "42\n",
      "43\n",
      "44\n",
      "45\n",
      "46\n",
      "47\n",
      "48\n",
      "49\n",
      "50\n",
      "51\n",
      "52\n",
      "53\n",
      "54\n",
      "55\n",
      "56\n",
      "57\n",
      "58\n",
      "59\n",
      "60\n",
      "61\n",
      "62\n",
      "63\n",
      "64\n",
      "65\n",
      "66\n",
      "67\n",
      "68\n",
      "69\n",
      "70\n",
      "71\n",
      "72\n",
      "73\n",
      "74\n",
      "75\n",
      "76\n",
      "77\n",
      "78\n",
      "79\n",
      "80\n",
      "81\n",
      "82\n",
      "83\n",
      "84\n",
      "85\n"
     ]
    }
   ],
   "source": [
    "i = 0\n",
    "k = 0\n",
    "while True:\n",
    "    print(i+1)\n",
    "    i+=1\n",
    "    if i%5 == 0:\n",
    "        k+=1\n",
    "    if k>=17:\n",
    "        break"
   ]
  },
  {
   "cell_type": "markdown",
   "metadata": {},
   "source": [
    "Task 17: Write a function that returns the maximum out of 3 numbers.<br>Գրիր ֆունկցիա, որը կվերադարձնի 3 թվերից մաքսիմումը։"
   ]
  },
  {
   "cell_type": "code",
   "execution_count": 31,
   "metadata": {},
   "outputs": [],
   "source": [
    "def maximum(a,b,c):\n",
    "    if a>=b and a>=c:\n",
    "        return a\n",
    "    elif c>=a and c>=b:\n",
    "        return c\n",
    "    elif b>=a and b>=c:\n",
    "        return b\n",
    "    elif b>a and c>=b:\n",
    "        return c"
   ]
  },
  {
   "cell_type": "code",
   "execution_count": 32,
   "metadata": {},
   "outputs": [],
   "source": [
    "assert(maximum(6,1,8) == 8)\n",
    "assert(maximum(23,1,8) == 23)\n",
    "assert(maximum(6,5,82) == 82)\n",
    "assert(maximum(6324,4231,8532) == 8532)"
   ]
  },
  {
   "cell_type": "markdown",
   "metadata": {},
   "source": [
    "Task 18: Write a function which will return a string 'I am **age**. I was born in **year**'.<br>\n",
    "Note: You can convert a digit into a string by using str (e.g. str(34) = '34').<br>\n",
    "Գրիր ֆունկցիա, որը կվերադարձնի string 'I am **age**. I was born in **year**'<br>\n",
    "Դիտողություն․ Կարող ես string-ը դարձնել թիվ օգտագործելով str ֆունկցիան (օրինակ՝ str(34) = '34') "
   ]
  },
  {
   "cell_type": "code",
   "execution_count": 33,
   "metadata": {},
   "outputs": [],
   "source": [
    "def born(age):\n",
    "    return 'I am '\"\"+ str( age)+'.' \" \" +'I was born in' \" \" + str(2018-age)+'.'"
   ]
  },
  {
   "cell_type": "code",
   "execution_count": 34,
   "metadata": {
    "scrolled": false
   },
   "outputs": [],
   "source": [
    "assert(born(67) == 'I am 67. I was born in 1951.')\n",
    "assert(born(34) == 'I am 34. I was born in 1984.')\n",
    "assert(born(112) == 'I am 112. I was born in 1906.')\n",
    "assert(born(5) == 'I am 5. I was born in 2013.')"
   ]
  },
  {
   "cell_type": "markdown",
   "metadata": {},
   "source": [
    "Task 19: Print name if it starts with **A**.<br>\n",
    "Տպիր անունը, եթե այն սկսում է **A**-ով։"
   ]
  },
  {
   "cell_type": "code",
   "execution_count": 35,
   "metadata": {},
   "outputs": [
    {
     "name": "stdout",
     "output_type": "stream",
     "text": [
      "Arthur\n",
      "Ashot\n",
      "Ani\n",
      "Armen\n"
     ]
    }
   ],
   "source": [
    "name_list = ['Arthur','Ashot','Gegham','Zaven','Ani','Gohar','Tatev','Armen','Levon']\n",
    "i=0\n",
    "for name in name_list:\n",
    "    if name[i][0]=='A': \n",
    "        print(name)"
   ]
  },
  {
   "cell_type": "markdown",
   "metadata": {},
   "source": [
    "Task 20: Calculate exponential moving average with **alpha** weigth (for more info google) from list and return all averages as list.<br>\n",
    "Հաշվիր էքսպոնենցիալ սղացող միջին (exponential moving average) **alpha** կշռով ըստ տրվող ցուցակի և վերադարձրու բոլոր միջինները որպես ցուցակ։"
   ]
  },
  {
   "cell_type": "code",
   "execution_count": 36,
   "metadata": {},
   "outputs": [],
   "source": [
    "def EMA(x,alpha):\n",
    "    EMA_list = []\n",
    "    average = x[0]\n",
    "    for i in x:\n",
    "        average = alpha*average+(1-alpha)*i\n",
    "        EMA_list.append(average)\n",
    "    return EMA_list"
   ]
  },
  {
   "cell_type": "code",
   "execution_count": 37,
   "metadata": {},
   "outputs": [],
   "source": [
    "assert(EMA([1,2,3,4],0.5) == [1.0, 1.5, 2.25, 3.125])\n",
    "assert(EMA([1,2,3,4],0.8) == [1.0, 1.2, 1.5599999999999998, 2.048])\n",
    "assert(EMA([213,123,32,42,21,321],0.2) == [213.0, 141.0, 53.800000000000004, 44.36, 25.672, 261.93440000000004])"
   ]
  },
  {
   "cell_type": "markdown",
   "metadata": {},
   "source": [
    "## Tasks 21-25: Write the remaining part of code.<br>Գրիր կոդի մնացած մասը։"
   ]
  },
  {
   "cell_type": "markdown",
   "metadata": {},
   "source": [
    "Task 21: Write a function which calculates the sum of 2 numbers divided by their difference.<br>\n",
    "Note: return 0 if denominator is 0.<br>\n",
    "Գրիր ֆունկցիա, որը հաշվում 2 թվերի գումարը և բաժանում դրանց տարբերությանը։<br>\n",
    "Դիտողություն․ Վերադարձրու 0 եթե հայտարարը 0 է։"
   ]
  },
  {
   "cell_type": "code",
   "execution_count": 38,
   "metadata": {},
   "outputs": [],
   "source": [
    "def sd_division(a,b):\n",
    "    d= a+b\n",
    "    z=a-b\n",
    "    try:\n",
    "        i=d/z\n",
    "    except ZeroDivisionError:\n",
    "        print ('error')\n",
    "        i=0\n",
    "    if i == 0:\n",
    "        return 0\n",
    "    else:\n",
    "        return i"
   ]
  },
  {
   "cell_type": "code",
   "execution_count": 39,
   "metadata": {},
   "outputs": [
    {
     "name": "stdout",
     "output_type": "stream",
     "text": [
      "error\n"
     ]
    }
   ],
   "source": [
    "assert(sd_division(2,3) == -5)\n",
    "assert(sd_division(20,45) == -2.6) \n",
    "assert(sd_division(2,2) == 0)\n",
    "assert(sd_division(20,-20) == 0)"
   ]
  },
  {
   "cell_type": "markdown",
   "metadata": {},
   "source": [
    "Task 22: Write a function which will convert seconds to **(hour,minute,seconds)**.<br>\n",
    "Note: If seconds are more than a day take modulus (%) to extract days.<br>\n",
    "Գրիր ֆունկցիա, որը վարկյանները կդարձնի ժամ, րոպե, վարկյան **(hour,minute,seconds)**։<br>\n",
    "Դիտողություն․ Եթե վարկյանները 1 օրից շատ են օգատագործիր մոդուլուս օրերը հանելու համար։"
   ]
  },
  {
   "cell_type": "code",
   "execution_count": 40,
   "metadata": {},
   "outputs": [],
   "source": [
    "def clock(s):\n",
    "    if s - 86400 >= 0:\n",
    "        x= s // 86400\n",
    "        s=s-86400*x\n",
    "        return s//3600,s%3600//60,s%3600%60//1\n",
    "    else:\n",
    "         return s//3600,s%3600//60,s%3600%60//1"
   ]
  },
  {
   "cell_type": "code",
   "execution_count": 41,
   "metadata": {},
   "outputs": [],
   "source": [
    "assert(clock(658400) == (14, 53, 20))\n",
    "assert(clock(12312412) == (12, 6, 52))\n",
    "assert(clock(789) == (0, 13, 9))"
   ]
  },
  {
   "cell_type": "markdown",
   "metadata": {},
   "source": [
    "Task 23: Calculate elementwise sums of 2 lists and return the sums as a list.<br>\n",
    "Հաշվիր 2 ցուցոակների համապատասխան էլեմենտների գումարները և վերադարձրու որպես ցուցակ։"
   ]
  },
  {
   "cell_type": "code",
   "execution_count": 42,
   "metadata": {},
   "outputs": [],
   "source": [
    "def list_sums(a,b):\n",
    "    m=[]\n",
    "    k=[]\n",
    "    i=0\n",
    "    while i < len(a):\n",
    "        k = (a[i] + b[i])\n",
    "        i+=1\n",
    "        m.append(k)\n",
    "    return (m)"
   ]
  },
  {
   "cell_type": "code",
   "execution_count": 43,
   "metadata": {},
   "outputs": [],
   "source": [
    "assert(list_sums([1,1,1],[2,2,2]) == [3,3,3])\n",
    "assert(list_sums([1,21,1,234],[232,2,78,3]) == [233, 23, 79, 237])\n",
    "assert(list_sums([1,21,1432,234,434,232],[232,2,78,3,432,-3243290]) == [233, 23, 1510, 237, 866, -3243058])"
   ]
  },
  {
   "cell_type": "markdown",
   "metadata": {},
   "source": [
    "Task 24: Write a function which will return number **aa** given number **a** (e.g. 5 will return 55).<br>\n",
    "Գրիր ֆունկցիա, որը կվերադարձնի **aa** թիվը **a** թվից (օրինակ՝ 5 will return 55)։"
   ]
  },
  {
   "cell_type": "code",
   "execution_count": 44,
   "metadata": {},
   "outputs": [],
   "source": [
    "def my_number(a):\n",
    "    b= str(a)+str(a)\n",
    "    b=int(b)\n",
    "    return (b)"
   ]
  },
  {
   "cell_type": "code",
   "execution_count": 45,
   "metadata": {},
   "outputs": [],
   "source": [
    "assert(my_number(70) == 7070)\n",
    "assert(my_number(789) == 789789)"
   ]
  },
  {
   "cell_type": "markdown",
   "metadata": {},
   "source": [
    "Task 25: Write a function which will return (a+aa+aaa)/(bbb-bb-b). If denominator is 0, return 0.<br>\n",
    "Գրիր ֆունկցիա, որը կվերադարձնի (a+aa+aaa)/(bbb-bb-b)։ Եթե հայտարարը 0 է, վերադարձրու 0։"
   ]
  },
  {
   "cell_type": "code",
   "execution_count": 46,
   "metadata": {},
   "outputs": [],
   "source": [
    "def my_division(a,b):\n",
    "    i=str(a)+str(a)\n",
    "    i2=str(a)+str(a)+str(a)\n",
    "    c=str(b)+str(b)\n",
    "    c2=str(b)+str(b)+str(b)\n",
    "    f=int(a)+int(i)+int(i2)\n",
    "    k=int(c2)-int(c)-int(b)\n",
    "    d=int(f)/int(k)\n",
    "    return (d)"
   ]
  },
  {
   "cell_type": "code",
   "execution_count": 47,
   "metadata": {},
   "outputs": [],
   "source": [
    "assert(my_division(1,1) == 1.2424242424242424)\n",
    "assert(my_division(5,4) == 1.553030303030303)\n",
    "assert(my_division(54,11) == 5.009246379183373)\n",
    "assert(my_division(574,43) == 1337.6912621494707)"
   ]
  },
  {
   "cell_type": "markdown",
   "metadata": {},
   "source": [
    "## Tasks 26+: These are more difficult tasks than previous ones.<br>Սրանք ավելի բարդ վարժություններ են քան նախորդները։"
   ]
  },
  {
   "cell_type": "markdown",
   "metadata": {},
   "source": [
    "Task 26: Given 3 sides of a traingle calculate the area.<br>\n",
    "Note1: Ignore the fact that it may be impossible to construct triangle with given sides.<br>\n",
    "Note2: You will need to import a module.<br>\n",
    "Հաշվիր եռանկյան մակերեսը տրված 3 կողմով։<br>\n",
    "Դիտողություն 1․ Արհամարիիր, եթե տրված թվերով հնարավոր չէ կառուցել եռանկյուն։<br>\n",
    "Դիտողություն 2․ Կարիք կլինի մոդուլ(library անունը Փայթոնում ավելի հաճախ է օգտագործվում) ներմուծելու։"
   ]
  },
  {
   "cell_type": "code",
   "execution_count": 48,
   "metadata": {},
   "outputs": [],
   "source": [
    "import math\n",
    "def area_3sides(a,b,c):\n",
    "    q = (a+b+c)/2\n",
    "    res = math.sqrt(q*(q-a)*(q-b)*(q-c))\n",
    "    return (res)"
   ]
  },
  {
   "cell_type": "code",
   "execution_count": 49,
   "metadata": {},
   "outputs": [],
   "source": [
    "assert(area_3sides(1,1,1) == 0.4330127018922193)\n",
    "assert(area_3sides(3,4,5) == 6)\n",
    "assert(area_3sides(3,4,7) == 0)\n",
    "assert(area_3sides(7,4,7) == 13.416407864998739)"
   ]
  },
  {
   "cell_type": "markdown",
   "metadata": {},
   "source": [
    "Task 27: Create Fibonacci sequence up to 10000  in a list.<br>\n",
    "Ստեղծիր Ֆիբոնաչիի հաջորդականությունը մինչև 10000-րդ թիվը։"
   ]
  },
  {
   "cell_type": "code",
   "execution_count": 50,
   "metadata": {},
   "outputs": [],
   "source": [
    "k=0\n",
    "a = 0\n",
    "b = 1\n",
    "fib_list = [a,b]\n",
    "while k < 10000:\n",
    "    k = a + b\n",
    "    a = b\n",
    "    b = k\n",
    "    fib_list.append(k)"
   ]
  },
  {
   "cell_type": "code",
   "execution_count": 51,
   "metadata": {
    "scrolled": true
   },
   "outputs": [],
   "source": [
    "assert(fib_list[0] == 0)\n",
    "assert(fib_list[9] == 34)\n",
    "assert(fib_list[12] == 144)\n",
    "assert(fib_list[17] == 1597)\n",
    "assert(fib_list[20] == 6765)"
   ]
  },
  {
   "cell_type": "markdown",
   "metadata": {},
   "source": [
    "Task 28: Write a function which filters out numbers from list that are bigger than **threshold** and return the length of the list.<br>\n",
    "Գրիր ֆունկցիա, որը մաքրում է ցուցակից այն թվերը, որոնք մեծ են **threshold**-ից և վերադարձրու ցուցակի երկարությունը։"
   ]
  },
  {
   "cell_type": "code",
   "execution_count": 52,
   "metadata": {},
   "outputs": [],
   "source": [
    "def list_filter(list_to_filter, threshold):\n",
    "    f=[]\n",
    "    for i in (list_to_filter):\n",
    "        if i < threshold:\n",
    "            f.append(i)\n",
    "        i+=1\n",
    "    return (len(f))"
   ]
  },
  {
   "cell_type": "code",
   "execution_count": 53,
   "metadata": {},
   "outputs": [],
   "source": [
    "assert(list_filter([1,1,1,1,4,4,4,4],3) == 4)\n",
    "assert(list_filter([1,17,10,1,4876,4,84,46],367) == 7)\n",
    "assert(list_filter([1,17,10,1,4876,4,84,46,342,43,23,42,34324,43245,23423,432],37) == 6)"
   ]
  },
  {
   "cell_type": "markdown",
   "metadata": {},
   "source": [
    "Task 29: Do task 28 using **list comprehension** (google it!).<br>\n",
    "Կատարիր վարժություն 28-ը օգտագործելով **list comprehension**։"
   ]
  },
  {
   "cell_type": "code",
   "execution_count": 54,
   "metadata": {},
   "outputs": [],
   "source": [
    "def list_filter_comp(list_to_filter, threshold):\n",
    "    return len([i for i in list_to_filter if i < threshold ])"
   ]
  },
  {
   "cell_type": "code",
   "execution_count": 55,
   "metadata": {},
   "outputs": [],
   "source": [
    "assert(list_filter_comp([1,1,1,1,4,4,4,4],3) == 4)\n",
    "assert(list_filter_comp([1,17,10,1,4876,4,84,46],367) == 7)\n",
    "assert(list_filter_comp([1,17,10,1,4876,4,84,46,342,43,23,42,34324,43245,23423,432],37) == 6)"
   ]
  },
  {
   "cell_type": "markdown",
   "metadata": {},
   "source": [
    "Task 30: Suppose you have unlimited number of **x**-kg, **y**-kg and 1-kg weight stones. You want to have exactly **weigth** kg weight. Write a function which will return the minimum number of stones needeդ to get to **weigth**.<br>\n",
    "Note: Consider that **x** can be less than **y**.<br>\n",
    "Ենթադրիր ունես անվերջ քանակով **x**-կգ, **y**-կգ և 1-կգ կշռաքարեր։ Դու ուզւմ ես ունենալ ճիշտ **weigth** կգ քաշ։ Գրիր ֆունկցիա, որը կվերադարձնի կշռաքարերի մինիմալ քանակը **weigth** քաշ ստանալու համար։<br>\n",
    "Դիտողություն․ Հնարավոր է, որ **x**-ը փոքր լինի **y**-ից։"
   ]
  },
  {
   "cell_type": "code",
   "execution_count": 56,
   "metadata": {},
   "outputs": [],
   "source": [
    "def heavy_stones(x,y,weigth):\n",
    "        if x > y:\n",
    "            return (weigth//x+weigth%x//y+weigth%x%y//1)\n",
    "        elif x < y:\n",
    "            return (weigth//y+weigth%y//x+weigth%y%x//1)"
   ]
  },
  {
   "cell_type": "code",
   "execution_count": 57,
   "metadata": {},
   "outputs": [],
   "source": [
    "assert(heavy_stones(3,2,15)  == 5)\n",
    "assert(heavy_stones(5,2,28)  == 7)\n",
    "assert(heavy_stones(21,50,28456) == 575)\n",
    "assert(heavy_stones(100,71,2845756)  == 28513)"
   ]
  }
 ],
 "metadata": {
  "kernelspec": {
   "display_name": "Python 3",
   "language": "python",
   "name": "python3"
  },
  "language_info": {
   "codemirror_mode": {
    "name": "ipython",
    "version": 3
   },
   "file_extension": ".py",
   "mimetype": "text/x-python",
   "name": "python",
   "nbconvert_exporter": "python",
   "pygments_lexer": "ipython3",
   "version": "3.6.5"
  }
 },
 "nbformat": 4,
 "nbformat_minor": 2
}
